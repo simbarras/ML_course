{
 "cells": [
  {
   "cell_type": "code",
   "metadata": {
    "ExecuteTime": {
     "end_time": "2025-09-11T08:20:26.956399Z",
     "start_time": "2025-09-11T08:20:26.732041Z"
    }
   },
   "source": [
    "# Import necessary libraries\n",
    "%matplotlib inline\n",
    "import numpy as np\n",
    "import matplotlib.pyplot as plt\n",
    "\n",
    "%load_ext autoreload\n",
    "%autoreload 2\n",
    "\n",
    "# Load test module for sanity check\n",
    "from test_utils import test"
   ],
   "outputs": [],
   "execution_count": 4
  },
  {
   "cell_type": "markdown",
   "metadata": {},
   "source": [
    "Data Generation\n",
    "==="
   ]
  },
  {
   "cell_type": "code",
   "metadata": {
    "ExecuteTime": {
     "end_time": "2025-09-11T08:20:28.477742Z",
     "start_time": "2025-09-11T08:20:28.471875Z"
    }
   },
   "source": [
    "num_samples, num_features = 10, 5"
   ],
   "outputs": [],
   "execution_count": 5
  },
  {
   "cell_type": "code",
   "metadata": {
    "ExecuteTime": {
     "end_time": "2025-09-11T08:20:29.538080Z",
     "start_time": "2025-09-11T08:20:29.516395Z"
    }
   },
   "source": [
    "np.random.seed(10)\n",
    "data = np.random.rand(num_samples, num_features)"
   ],
   "outputs": [],
   "execution_count": 6
  },
  {
   "cell_type": "markdown",
   "metadata": {},
   "source": [
    "Solution\n",
    "==="
   ]
  },
  {
   "cell_type": "code",
   "metadata": {
    "ExecuteTime": {
     "end_time": "2025-09-11T08:24:02.119711Z",
     "start_time": "2025-09-11T08:24:02.111439Z"
    }
   },
   "source": [
    "print(data)"
   ],
   "outputs": [
    {
     "name": "stdout",
     "output_type": "stream",
     "text": [
      "[[0.77132064 0.02075195 0.63364823 0.74880388 0.49850701]\n",
      " [0.22479665 0.19806286 0.76053071 0.16911084 0.08833981]\n",
      " [0.68535982 0.95339335 0.00394827 0.51219226 0.81262096]\n",
      " [0.61252607 0.72175532 0.29187607 0.91777412 0.71457578]\n",
      " [0.54254437 0.14217005 0.37334076 0.67413362 0.44183317]\n",
      " [0.43401399 0.61776698 0.51313824 0.65039718 0.60103895]\n",
      " [0.8052232  0.52164715 0.90864888 0.31923609 0.09045935]\n",
      " [0.30070006 0.11398436 0.82868133 0.04689632 0.62628715]\n",
      " [0.54758616 0.819287   0.19894754 0.8568503  0.35165264]\n",
      " [0.75464769 0.29596171 0.88393648 0.32551164 0.1650159 ]]\n"
     ]
    }
   ],
   "execution_count": 7
  },
  {
   "cell_type": "code",
   "metadata": {
    "ExecuteTime": {
     "end_time": "2025-09-11T08:26:11.160527Z",
     "start_time": "2025-09-11T08:26:11.152830Z"
    }
   },
   "source": [
    "def standardize(x):\n",
    "    \"\"\"Stadartize the input data x\n",
    "\n",
    "    Args:\n",
    "        x: numpy array of shape=(num_samples, num_features)\n",
    "\n",
    "    Returns:\n",
    "        standartized data, shape=(num_samples, num_features)\n",
    "\n",
    "    >>> standardize(np.array([[1, 2], [3, 4], [5, 6]]))\n",
    "    array([[-1.22474487, -1.22474487],\n",
    "           [ 0.        ,  0.        ],\n",
    "           [ 1.22474487,  1.22474487]])\n",
    "    \"\"\"\n",
    "    # ***************************************************\n",
    "    # INSERT YOUR CODE HERE\n",
    "    # TODO: standartize input data x\n",
    "    mean = np.mean(x, axis=0)\n",
    "    std = np.std(x, axis=0)\n",
    "    std_data = (x - mean) / std\n",
    "    # ***************************************************\n",
    "    return std_data\n",
    "\n",
    "\n",
    "test(standardize)"
   ],
   "outputs": [
    {
     "name": "stdout",
     "output_type": "stream",
     "text": [
      "✅ Your `standardize` passed 1 tests.\n"
     ]
    }
   ],
   "execution_count": 10
  },
  {
   "cell_type": "code",
   "metadata": {
    "ExecuteTime": {
     "end_time": "2025-09-11T08:26:15.593104Z",
     "start_time": "2025-09-11T08:26:15.584620Z"
    }
   },
   "source": [
    "std_data = standardize(data)\n",
    "print(std_data, \"\\n\\n\", np.mean(std_data, axis=0), \"\\n\\n\", np.std(std_data, axis=0))"
   ],
   "outputs": [
    {
     "name": "stdout",
     "output_type": "stream",
     "text": [
      "[[ 1.0775774  -1.34411605  0.31525355  0.80665878  0.24128662]\n",
      " [-1.81711634 -0.77630186  0.74088404 -1.25592235 -1.42276759]\n",
      " [ 0.62228127  1.64254169 -1.797091   -0.03521894  1.51565143]\n",
      " [ 0.23651339  0.90075228 -0.83122987  1.40786459  1.11788073]\n",
      " [-0.13414844 -0.95529104 -0.55795449  0.54097769  0.01136005]\n",
      " [-0.70898541  0.56774371 -0.08900028  0.45652209  0.65726018]\n",
      " [ 1.2571441   0.25993298  1.23775021 -0.72176808 -1.4141686 ]\n",
      " [-1.41508984 -1.04555188  0.96949701 -1.69076861  0.75969247]\n",
      " [-0.10744434  1.21308427 -1.14296098  1.19109415 -0.35450368]\n",
      " [ 0.98926822 -0.46279408  1.15485183 -0.69943932 -1.11169162]] \n",
      "\n",
      " [-1.66533454e-16  4.99600361e-17 -2.22044605e-17  1.11022302e-17\n",
      "  3.33066907e-16] \n",
      "\n",
      " [1. 1. 1. 1. 1.]\n"
     ]
    }
   ],
   "execution_count": 11
  },
  {
   "cell_type": "code",
   "execution_count": null,
   "metadata": {},
   "outputs": [],
   "source": []
  }
 ],
 "metadata": {
  "language_info": {
   "name": "python"
  },
  "kernelspec": {
   "name": "python3",
   "language": "python",
   "display_name": "Python 3 (ipykernel)"
  }
 },
 "nbformat": 4,
 "nbformat_minor": 1
}
